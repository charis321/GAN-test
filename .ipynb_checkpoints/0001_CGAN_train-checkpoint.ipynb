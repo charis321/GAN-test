{
 "cells": [
  {
   "cell_type": "code",
   "execution_count": 40,
   "metadata": {},
   "outputs": [],
   "source": [
    "import numpy as np\n",
    "import tensorflow as tf\n",
    "from keras.datasets import mnist\n",
    "from keras.layers import Activation,BatchNormalization,Concatenate,Dense,Embedding,Flatten,Input,Multiply,Reshape\n",
    "from keras.layers.advanced_activations import LeakyReLU\n",
    "from keras.layers.convolutional import Conv2D,Conv2DTranspose\n",
    "from keras.models import Model,Sequential\n",
    "from keras.optimizers import Adam\n",
    "import matplotlib.pyplot as plt"
   ]
  },
  {
   "cell_type": "code",
   "execution_count": 41,
   "metadata": {},
   "outputs": [],
   "source": [
    "image_size = 28\n",
    "n_channel = 1\n",
    "z_dim=100\n",
    "n_classes=10"
   ]
  },
  {
   "cell_type": "code",
   "execution_count": 83,
   "metadata": {},
   "outputs": [],
   "source": [
    "class CGAN(object):\n",
    "    def __init__(self,image_size,n_channel,z_dim,n_classes):\n",
    "        self.img_shape = (image_size,image_size,n_channel)\n",
    "        self.z_dim=z_dim\n",
    "        self.n_classes=n_classes\n",
    "        self.loss=[]\n",
    "        \n",
    "    def build_generator(self,z_dim):\n",
    "        g_input=Input(shape=(z_dim,))\n",
    "        x=Dense(256*7*7,input_dim=z_dim)(g_input)\n",
    "        x=Reshape((7,7,256))(x)\n",
    "\n",
    "        x=Conv2DTranspose(128,kernel_size=3,strides=2,padding='same')(x)\n",
    "        x=BatchNormalization()(x)\n",
    "        x=LeakyReLU(alpha=0.01)(x)\n",
    "\n",
    "        x=Conv2DTranspose(64,kernel_size=3,strides=1,padding='same')(x)\n",
    "        x=BatchNormalization()(x)\n",
    "        x=LeakyReLU(alpha=0.01)(x)\n",
    "\n",
    "        x=Conv2DTranspose(1,kernel_size=3,strides=2,padding='same')(x)\n",
    "        g_output=Activation('tanh')(x)\n",
    "\n",
    "        return Model(g_input,g_output)\n",
    "    def build_cgan_generator(self):\n",
    "        z=Input(shape=(self.z_dim,))\n",
    "        label=Input(shape=(1,),dtype='int32')\n",
    "\n",
    "        label_embedding=Embedding(self.n_classes,self.z_dim,input_length=1)(label)\n",
    "        label_embedding=Flatten()(label_embedding)\n",
    "        joined_representation=Multiply()([z,label_embedding])\n",
    "        g_model=self.build_generator(self.z_dim)\n",
    "        conditioned_img=g_model(joined_representation)\n",
    "\n",
    "        return Model([z,label],conditioned_img)\n",
    "\n",
    "    def build_discriminator(self,img_shape):\n",
    "        d_input=Input(shape=(img_shape[0],img_shape[1],img_shape[2]+1))\n",
    "        x=Conv2D(64,kernel_size=3,strides=2,padding='same')(d_input)\n",
    "        x=LeakyReLU(alpha=0.01)(x)\n",
    "\n",
    "        x=Conv2D(64,kernel_size=3,strides=2,padding='same')(x)\n",
    "        x=BatchNormalization()(x)\n",
    "        x=LeakyReLU(alpha=0.01)(x)\n",
    "\n",
    "        x=Conv2D(128,kernel_size=3,strides=2,padding='same')(x)\n",
    "        x=BatchNormalization()(x)\n",
    "        x=LeakyReLU(alpha=0.01)(x)\n",
    "\n",
    "        x=Flatten()(x)\n",
    "        d_output=Dense(1,activation='sigmoid')(x)\n",
    "\n",
    "        return Model(d_input,d_output)\n",
    "    def build_cgan_discriminator(self):\n",
    "        img=Input(shape=self.img_shape)    \n",
    "        label=Input(shape=(1,),dtype=\"int32\")\n",
    "\n",
    "        label_embedding=Embedding(n_classes,np.prod(self.img_shape),input_length=1)(label)\n",
    "        label_embedding=Flatten()(label_embedding)\n",
    "        label_embedding=Reshape(self.img_shape)(label_embedding)\n",
    "\n",
    "        concatenated=Concatenate(axis=-1)([img,label_embedding])\n",
    "        d_model=self.build_discriminator(self.img_shape)\n",
    "        classification=d_model(concatenated)\n",
    "\n",
    "        return Model([img,label],classification)\n",
    "\n",
    "    def compile(self):\n",
    "        self.d_model=self.build_cgan_discriminator()\n",
    "        self.g_model=self.build_cgan_generator()\n",
    "        \n",
    "        self.d_model.compile(loss='binary_crossentropy',\n",
    "                             optimizer=Adam(),\n",
    "                             metrics=['accuracy'])\n",
    "        self.d_model.trainable=False\n",
    "        \n",
    "        z=Input(shape=(self.z_dim,))\n",
    "        label=Input(shape=(1,))\n",
    "        img=self.g_model([z,label])\n",
    "        classification=self.d_model([img,label])\n",
    "        \n",
    "        self.cgan_model=Model([z,label],classification)\n",
    "        self.cgan_model.compile(loss='binary_crossentropy',optimizer=Adam())\n",
    "    \n",
    "    def train(self,epochs,batch_size,sample_interval):\n",
    "        (X_train,y_train),(_,_)=mnist.load_data()\n",
    "        X_train=X_train/127.5-1\n",
    "        X_train=np.expand_dims(X_train,axis=3)\n",
    "        real=np.ones((batch_size,1))\n",
    "        fake=np.zeros((batch_size,1))\n",
    "        for epoch in range(epochs):\n",
    "            idx=np.random.randint(0,X_train.shape[0],batch_size)\n",
    "            real_imgs,labels=X_train[idx],y_train[idx]\n",
    "            \n",
    "            z=np.random.normal(0,1,(batch_size,self.z_dim))\n",
    "            fake_imgs=self.g_model.predict([z,labels])\n",
    "            \n",
    "            d_loss_real=self.d_model.train_on_batch([real_imgs,labels],real)\n",
    "            d_loss_fake=self.d_model.train_on_batch([fake_imgs,labels],fake)\n",
    "            d_loss=0.5*np.add(d_loss_real,d_loss_fake)\n",
    "            \n",
    "            z=np.random.normal(0,1,(batch_size,self.z_dim))\n",
    "            labels=np.random.randint(0,self.n_classes,batch_size).reshape(-1,1)\n",
    "            g_loss=self.cgan_model.train_on_batch([z,labels],real)\n",
    "            \n",
    "            if(epoch%sample_interval==0):\n",
    "                print(\"%d [D loss: %f,acc:%.2f%%][G loss:%f]\"%(epoch,d_loss[0],100*d_loss[1],g_loss))\n",
    "                self.loss.append((d_loss[0],g_loss))\n",
    "                #self.sample_images()\n",
    "    \n",
    "    def sample_images(self,img_row=5,img_col=5):\n",
    "        z=np.random.normal(0,1,(img_row*img_col,self.z_dim))\n",
    "        labels=np.arange(0,10).reshape(-1,1)\n",
    "        fake_imgs=self.g_model.predict([z,labels])\n",
    "        fake_imgs=fake_imgs*0.5+0.5\n",
    "        fig,axs=plt.subplots(img_row,img_col,figsize=(10,4),sharey=True,sharex=True)\n",
    "        \n",
    "        cnt=0\n",
    "        for i in range(img_row):\n",
    "            for j in range(img_col):\n",
    "                axs[i,j].imshow(fake_imgs[cnt,:,:,0],cmap='gray')\n",
    "                axs[i,j].axis('off')\n",
    "                axs[i,j].set_title(\"label:%d\"%label[cnt])\n",
    "                cnt+=1\n",
    "                "
   ]
  },
  {
   "cell_type": "code",
   "execution_count": 84,
   "metadata": {},
   "outputs": [],
   "source": [
    "cgan=CGAN(image_size,n_channel,z_dim,n_classes)"
   ]
  },
  {
   "cell_type": "code",
   "execution_count": 85,
   "metadata": {},
   "outputs": [],
   "source": [
    "cgan.compile()"
   ]
  },
  {
   "cell_type": "code",
   "execution_count": 86,
   "metadata": {},
   "outputs": [
    {
     "name": "stdout",
     "output_type": "stream",
     "text": [
      "__________________________________________________________________________________________________\n",
      "Layer (type)                    Output Shape         Param #     Connected to                     \n",
      "==================================================================================================\n",
      "input_102 (InputLayer)          (None, 100)          0                                            \n",
      "__________________________________________________________________________________________________\n",
      "input_103 (InputLayer)          (None, 1)            0                                            \n",
      "__________________________________________________________________________________________________\n",
      "model_57 (Model)                (None, 28, 28, 1)    1638121     input_102[0][0]                  \n",
      "                                                                 input_103[0][0]                  \n",
      "__________________________________________________________________________________________________\n",
      "model_55 (Model)                (None, 1)            122657      model_57[1][0]                   \n",
      "                                                                 input_103[0][0]                  \n",
      "==================================================================================================\n",
      "Total params: 1,760,778\n",
      "Trainable params: 1,637,737\n",
      "Non-trainable params: 123,041\n",
      "__________________________________________________________________________________________________\n"
     ]
    }
   ],
   "source": [
    "cgan.cgan_model.summary()"
   ]
  },
  {
   "cell_type": "code",
   "execution_count": 87,
   "metadata": {},
   "outputs": [
    {
     "ename": "MemoryError",
     "evalue": "Unable to allocate 359. MiB for an array with shape (60000, 28, 28) and data type float64",
     "output_type": "error",
     "traceback": [
      "\u001b[1;31m---------------------------------------------------------------------------\u001b[0m",
      "\u001b[1;31mMemoryError\u001b[0m                               Traceback (most recent call last)",
      "\u001b[1;32m<ipython-input-87-bb2a594a45ad>\u001b[0m in \u001b[0;36m<module>\u001b[1;34m\u001b[0m\n\u001b[0;32m      2\u001b[0m \u001b[0mbatch_size\u001b[0m\u001b[1;33m=\u001b[0m\u001b[1;36m32\u001b[0m\u001b[1;33m\u001b[0m\u001b[1;33m\u001b[0m\u001b[0m\n\u001b[0;32m      3\u001b[0m \u001b[0msample_interval\u001b[0m\u001b[1;33m=\u001b[0m\u001b[1;36m1000\u001b[0m\u001b[1;33m\u001b[0m\u001b[1;33m\u001b[0m\u001b[0m\n\u001b[1;32m----> 4\u001b[1;33m \u001b[0mcgan\u001b[0m\u001b[1;33m.\u001b[0m\u001b[0mtrain\u001b[0m\u001b[1;33m(\u001b[0m\u001b[0mepochs\u001b[0m\u001b[1;33m,\u001b[0m\u001b[0mbatch_size\u001b[0m\u001b[1;33m,\u001b[0m\u001b[0msample_interval\u001b[0m\u001b[1;33m)\u001b[0m\u001b[1;33m\u001b[0m\u001b[1;33m\u001b[0m\u001b[0m\n\u001b[0m",
      "\u001b[1;32m<ipython-input-83-578cbb92d50a>\u001b[0m in \u001b[0;36mtrain\u001b[1;34m(self, epochs, batch_size, sample_interval)\u001b[0m\n\u001b[0;32m     85\u001b[0m     \u001b[1;32mdef\u001b[0m \u001b[0mtrain\u001b[0m\u001b[1;33m(\u001b[0m\u001b[0mself\u001b[0m\u001b[1;33m,\u001b[0m\u001b[0mepochs\u001b[0m\u001b[1;33m,\u001b[0m\u001b[0mbatch_size\u001b[0m\u001b[1;33m,\u001b[0m\u001b[0msample_interval\u001b[0m\u001b[1;33m)\u001b[0m\u001b[1;33m:\u001b[0m\u001b[1;33m\u001b[0m\u001b[1;33m\u001b[0m\u001b[0m\n\u001b[0;32m     86\u001b[0m         \u001b[1;33m(\u001b[0m\u001b[0mX_train\u001b[0m\u001b[1;33m,\u001b[0m\u001b[0my_train\u001b[0m\u001b[1;33m)\u001b[0m\u001b[1;33m,\u001b[0m\u001b[1;33m(\u001b[0m\u001b[0m_\u001b[0m\u001b[1;33m,\u001b[0m\u001b[0m_\u001b[0m\u001b[1;33m)\u001b[0m\u001b[1;33m=\u001b[0m\u001b[0mmnist\u001b[0m\u001b[1;33m.\u001b[0m\u001b[0mload_data\u001b[0m\u001b[1;33m(\u001b[0m\u001b[1;33m)\u001b[0m\u001b[1;33m\u001b[0m\u001b[1;33m\u001b[0m\u001b[0m\n\u001b[1;32m---> 87\u001b[1;33m         \u001b[0mX_train\u001b[0m\u001b[1;33m=\u001b[0m\u001b[0mX_train\u001b[0m\u001b[1;33m/\u001b[0m\u001b[1;36m127.5\u001b[0m\u001b[1;33m-\u001b[0m\u001b[1;36m1\u001b[0m\u001b[1;33m\u001b[0m\u001b[1;33m\u001b[0m\u001b[0m\n\u001b[0m\u001b[0;32m     88\u001b[0m         \u001b[0mX_train\u001b[0m\u001b[1;33m=\u001b[0m\u001b[0mnp\u001b[0m\u001b[1;33m.\u001b[0m\u001b[0mexpand_dims\u001b[0m\u001b[1;33m(\u001b[0m\u001b[0mX_train\u001b[0m\u001b[1;33m,\u001b[0m\u001b[0maxis\u001b[0m\u001b[1;33m=\u001b[0m\u001b[1;36m3\u001b[0m\u001b[1;33m)\u001b[0m\u001b[1;33m\u001b[0m\u001b[1;33m\u001b[0m\u001b[0m\n\u001b[0;32m     89\u001b[0m         \u001b[0mreal\u001b[0m\u001b[1;33m=\u001b[0m\u001b[0mnp\u001b[0m\u001b[1;33m.\u001b[0m\u001b[0mones\u001b[0m\u001b[1;33m(\u001b[0m\u001b[1;33m(\u001b[0m\u001b[0mbatch_size\u001b[0m\u001b[1;33m,\u001b[0m\u001b[1;36m1\u001b[0m\u001b[1;33m)\u001b[0m\u001b[1;33m)\u001b[0m\u001b[1;33m\u001b[0m\u001b[1;33m\u001b[0m\u001b[0m\n",
      "\u001b[1;31mMemoryError\u001b[0m: Unable to allocate 359. MiB for an array with shape (60000, 28, 28) and data type float64"
     ]
    }
   ],
   "source": [
    "epochs=12000\n",
    "batch_size=32\n",
    "sample_interval=1000\n",
    "cgan.train(epochs,batch_size,sample_interval)"
   ]
  },
  {
   "cell_type": "code",
   "execution_count": 67,
   "metadata": {},
   "outputs": [
    {
     "data": {
      "text/plain": [
       "array([0, 1, 2, 3, 4, 5, 6, 7, 8, 9])"
      ]
     },
     "execution_count": 67,
     "metadata": {},
     "output_type": "execute_result"
    }
   ],
   "source": [
    "np.arange(0,10)"
   ]
  },
  {
   "cell_type": "code",
   "execution_count": null,
   "metadata": {},
   "outputs": [],
   "source": []
  }
 ],
 "metadata": {
  "kernelspec": {
   "display_name": "Python (tf.1x)",
   "language": "python",
   "name": "tensorflow_1x"
  },
  "language_info": {
   "codemirror_mode": {
    "name": "ipython",
    "version": 3
   },
   "file_extension": ".py",
   "mimetype": "text/x-python",
   "name": "python",
   "nbconvert_exporter": "python",
   "pygments_lexer": "ipython3",
   "version": "3.7.7"
  }
 },
 "nbformat": 4,
 "nbformat_minor": 4
}
